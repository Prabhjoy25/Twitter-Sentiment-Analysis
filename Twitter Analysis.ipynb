{
 "cells": [
  {
   "cell_type": "markdown",
   "metadata": {},
   "source": [
    "## 1. Import packages"
   ]
  },
  {
   "cell_type": "code",
   "execution_count": 1,
   "metadata": {},
   "outputs": [],
   "source": [
    "#pip install tweepy"
   ]
  },
  {
   "cell_type": "code",
   "execution_count": 2,
   "metadata": {},
   "outputs": [],
   "source": [
    "import tweepy as tw\n",
    "import pandas as pd\n",
    "from tqdm import tqdm, notebook\n",
    "\n",
    "pd.set_option('display.max_columns', None)\n",
    "pd.set_option('display.max_rows', None)\n"
   ]
  },
  {
   "cell_type": "markdown",
   "metadata": {},
   "source": [
    "## 2. Twitter API authentication"
   ]
  },
  {
   "cell_type": "code",
   "execution_count": 3,
   "metadata": {},
   "outputs": [],
   "source": [
    "consumerKey = 'Aeq686pkZXy3iNpDDOxNhe8Qb'\n",
    "consumerSecret = 'OaAAgKJiZ0ugS1r8bOFv2t8Pf0Ip1ubuDf4YIzook8ZB78j03L'\n",
    "accessToken = '964858007380267008-YazemwdYopXDefnX8sEe0sC2asPAeyt'\n",
    "accessTokenSecret = '1tnrl3TJ8x49pSuCKEnCUJN4XVzBvh4LOKSesIEqTd5mD'\n",
    "auth = tw.OAuthHandler(consumerKey, consumerSecret)\n",
    "auth.set_access_token(accessToken, accessTokenSecret)\n",
    "api = tw.API(auth, wait_on_rate_limit=True)"
   ]
  },
  {
   "cell_type": "markdown",
   "metadata": {},
   "source": [
    "## 3. Tweets query\n",
    "\n",
    "### 3.1. Define the query"
   ]
  },
  {
   "cell_type": "code",
   "execution_count": 4,
   "metadata": {},
   "outputs": [],
   "source": [
    "search_words = \"#Finance -filter:retweets\"\n",
    "date_since = \"2015-03-01\"\n",
    "# Collect tweets\n",
    "tweets = tw.Cursor(api.search_tweets,\n",
    "              q=search_words,\n",
    "              lang=\"en\",\n",
    "              since=date_since).items(100)"
   ]
  },
  {
   "cell_type": "markdown",
   "metadata": {},
   "source": [
    "### 3.2. Retreive the tweets"
   ]
  },
  {
   "cell_type": "code",
   "execution_count": 5,
   "metadata": {
    "scrolled": false
   },
   "outputs": [
    {
     "name": "stderr",
     "output_type": "stream",
     "text": [
      "0it [00:00, ?it/s]Unexpected parameter: since\n",
      "1it [00:00,  2.04it/s]Unexpected parameter: since\n",
      "16it [00:00, 20.86it/s]Unexpected parameter: since\n",
      "31it [00:01, 27.43it/s]Unexpected parameter: since\n",
      "46it [00:01, 28.48it/s]Unexpected parameter: since\n",
      "61it [00:02, 31.07it/s]Unexpected parameter: since\n",
      "76it [00:02, 32.91it/s]Unexpected parameter: since\n",
      "100it [00:03, 32.72it/s]\n"
     ]
    }
   ],
   "source": [
    "tweets_copy = []\n",
    "for tweet in tqdm(tweets):\n",
    "     tweets_copy.append(tweet)"
   ]
  },
  {
   "cell_type": "code",
   "execution_count": 6,
   "metadata": {
    "scrolled": true
   },
   "outputs": [
    {
     "name": "stdout",
     "output_type": "stream",
     "text": [
      "new tweets retrieved: 100\n"
     ]
    }
   ],
   "source": [
    "print(f\"new tweets retrieved: {len(tweets_copy)}\")"
   ]
  },
  {
   "cell_type": "markdown",
   "metadata": {},
   "source": [
    "## 4. Populate the dataset"
   ]
  },
  {
   "cell_type": "code",
   "execution_count": 7,
   "metadata": {
    "scrolled": true
   },
   "outputs": [
    {
     "name": "stderr",
     "output_type": "stream",
     "text": [
      "  0%|                                                                                          | 0/100 [00:00<?, ?it/s]C:\\Users\\prabh\\AppData\\Local\\Temp\\ipykernel_5636\\978419686.py:10: FutureWarning: The frame.append method is deprecated and will be removed from pandas in a future version. Use pandas.concat instead.\n",
      "  tweets_df = tweets_df.append(pd.DataFrame({'user_name': tweet.user.name,\n",
      "  1%|▊                                                                                 | 1/100 [00:00<00:44,  2.22it/s]C:\\Users\\prabh\\AppData\\Local\\Temp\\ipykernel_5636\\978419686.py:10: FutureWarning: The frame.append method is deprecated and will be removed from pandas in a future version. Use pandas.concat instead.\n",
      "  tweets_df = tweets_df.append(pd.DataFrame({'user_name': tweet.user.name,\n",
      "  2%|█▋                                                                                | 2/100 [00:00<00:34,  2.86it/s]C:\\Users\\prabh\\AppData\\Local\\Temp\\ipykernel_5636\\978419686.py:10: FutureWarning: The frame.append method is deprecated and will be removed from pandas in a future version. Use pandas.concat instead.\n",
      "  tweets_df = tweets_df.append(pd.DataFrame({'user_name': tweet.user.name,\n",
      "  3%|██▍                                                                               | 3/100 [00:01<00:30,  3.18it/s]C:\\Users\\prabh\\AppData\\Local\\Temp\\ipykernel_5636\\978419686.py:10: FutureWarning: The frame.append method is deprecated and will be removed from pandas in a future version. Use pandas.concat instead.\n",
      "  tweets_df = tweets_df.append(pd.DataFrame({'user_name': tweet.user.name,\n",
      "  4%|███▎                                                                              | 4/100 [00:01<00:29,  3.23it/s]C:\\Users\\prabh\\AppData\\Local\\Temp\\ipykernel_5636\\978419686.py:10: FutureWarning: The frame.append method is deprecated and will be removed from pandas in a future version. Use pandas.concat instead.\n",
      "  tweets_df = tweets_df.append(pd.DataFrame({'user_name': tweet.user.name,\n",
      "  5%|████                                                                              | 5/100 [00:01<00:28,  3.37it/s]C:\\Users\\prabh\\AppData\\Local\\Temp\\ipykernel_5636\\978419686.py:10: FutureWarning: The frame.append method is deprecated and will be removed from pandas in a future version. Use pandas.concat instead.\n",
      "  tweets_df = tweets_df.append(pd.DataFrame({'user_name': tweet.user.name,\n",
      "  6%|████▉                                                                             | 6/100 [00:01<00:29,  3.19it/s]C:\\Users\\prabh\\AppData\\Local\\Temp\\ipykernel_5636\\978419686.py:10: FutureWarning: The frame.append method is deprecated and will be removed from pandas in a future version. Use pandas.concat instead.\n",
      "  tweets_df = tweets_df.append(pd.DataFrame({'user_name': tweet.user.name,\n",
      "  7%|█████▋                                                                            | 7/100 [00:02<00:26,  3.47it/s]C:\\Users\\prabh\\AppData\\Local\\Temp\\ipykernel_5636\\978419686.py:10: FutureWarning: The frame.append method is deprecated and will be removed from pandas in a future version. Use pandas.concat instead.\n",
      "  tweets_df = tweets_df.append(pd.DataFrame({'user_name': tweet.user.name,\n",
      "  8%|██████▌                                                                           | 8/100 [00:02<00:29,  3.16it/s]C:\\Users\\prabh\\AppData\\Local\\Temp\\ipykernel_5636\\978419686.py:10: FutureWarning: The frame.append method is deprecated and will be removed from pandas in a future version. Use pandas.concat instead.\n",
      "  tweets_df = tweets_df.append(pd.DataFrame({'user_name': tweet.user.name,\n",
      "  9%|███████▍                                                                          | 9/100 [00:02<00:28,  3.20it/s]C:\\Users\\prabh\\AppData\\Local\\Temp\\ipykernel_5636\\978419686.py:10: FutureWarning: The frame.append method is deprecated and will be removed from pandas in a future version. Use pandas.concat instead.\n",
      "  tweets_df = tweets_df.append(pd.DataFrame({'user_name': tweet.user.name,\n",
      " 10%|████████                                                                         | 10/100 [00:03<00:30,  2.94it/s]C:\\Users\\prabh\\AppData\\Local\\Temp\\ipykernel_5636\\978419686.py:10: FutureWarning: The frame.append method is deprecated and will be removed from pandas in a future version. Use pandas.concat instead.\n",
      "  tweets_df = tweets_df.append(pd.DataFrame({'user_name': tweet.user.name,\n",
      " 11%|████████▉                                                                        | 11/100 [00:03<00:29,  3.03it/s]C:\\Users\\prabh\\AppData\\Local\\Temp\\ipykernel_5636\\978419686.py:10: FutureWarning: The frame.append method is deprecated and will be removed from pandas in a future version. Use pandas.concat instead.\n",
      "  tweets_df = tweets_df.append(pd.DataFrame({'user_name': tweet.user.name,\n",
      " 12%|█████████▋                                                                       | 12/100 [00:03<00:28,  3.10it/s]C:\\Users\\prabh\\AppData\\Local\\Temp\\ipykernel_5636\\978419686.py:10: FutureWarning: The frame.append method is deprecated and will be removed from pandas in a future version. Use pandas.concat instead.\n",
      "  tweets_df = tweets_df.append(pd.DataFrame({'user_name': tweet.user.name,\n",
      " 13%|██████████▌                                                                      | 13/100 [00:04<00:27,  3.13it/s]C:\\Users\\prabh\\AppData\\Local\\Temp\\ipykernel_5636\\978419686.py:10: FutureWarning: The frame.append method is deprecated and will be removed from pandas in a future version. Use pandas.concat instead.\n",
      "  tweets_df = tweets_df.append(pd.DataFrame({'user_name': tweet.user.name,\n",
      " 14%|███████████▎                                                                     | 14/100 [00:04<00:27,  3.18it/s]C:\\Users\\prabh\\AppData\\Local\\Temp\\ipykernel_5636\\978419686.py:10: FutureWarning: The frame.append method is deprecated and will be removed from pandas in a future version. Use pandas.concat instead.\n",
      "  tweets_df = tweets_df.append(pd.DataFrame({'user_name': tweet.user.name,\n",
      " 15%|████████████▏                                                                    | 15/100 [00:04<00:24,  3.46it/s]C:\\Users\\prabh\\AppData\\Local\\Temp\\ipykernel_5636\\978419686.py:10: FutureWarning: The frame.append method is deprecated and will be removed from pandas in a future version. Use pandas.concat instead.\n",
      "  tweets_df = tweets_df.append(pd.DataFrame({'user_name': tweet.user.name,\n",
      " 16%|████████████▉                                                                    | 16/100 [00:05<00:26,  3.15it/s]C:\\Users\\prabh\\AppData\\Local\\Temp\\ipykernel_5636\\978419686.py:10: FutureWarning: The frame.append method is deprecated and will be removed from pandas in a future version. Use pandas.concat instead.\n",
      "  tweets_df = tweets_df.append(pd.DataFrame({'user_name': tweet.user.name,\n",
      " 17%|█████████████▊                                                                   | 17/100 [00:05<00:26,  3.18it/s]C:\\Users\\prabh\\AppData\\Local\\Temp\\ipykernel_5636\\978419686.py:10: FutureWarning: The frame.append method is deprecated and will be removed from pandas in a future version. Use pandas.concat instead.\n",
      "  tweets_df = tweets_df.append(pd.DataFrame({'user_name': tweet.user.name,\n",
      " 18%|██████████████▌                                                                  | 18/100 [00:05<00:25,  3.20it/s]C:\\Users\\prabh\\AppData\\Local\\Temp\\ipykernel_5636\\978419686.py:10: FutureWarning: The frame.append method is deprecated and will be removed from pandas in a future version. Use pandas.concat instead.\n",
      "  tweets_df = tweets_df.append(pd.DataFrame({'user_name': tweet.user.name,\n",
      " 19%|███████████████▍                                                                 | 19/100 [00:05<00:23,  3.39it/s]C:\\Users\\prabh\\AppData\\Local\\Temp\\ipykernel_5636\\978419686.py:10: FutureWarning: The frame.append method is deprecated and will be removed from pandas in a future version. Use pandas.concat instead.\n",
      "  tweets_df = tweets_df.append(pd.DataFrame({'user_name': tweet.user.name,\n",
      " 20%|████████████████▏                                                                | 20/100 [00:06<00:23,  3.44it/s]C:\\Users\\prabh\\AppData\\Local\\Temp\\ipykernel_5636\\978419686.py:10: FutureWarning: The frame.append method is deprecated and will be removed from pandas in a future version. Use pandas.concat instead.\n",
      "  tweets_df = tweets_df.append(pd.DataFrame({'user_name': tweet.user.name,\n"
     ]
    },
    {
     "name": "stderr",
     "output_type": "stream",
     "text": [
      " 21%|█████████████████                                                                | 21/100 [00:06<00:22,  3.56it/s]C:\\Users\\prabh\\AppData\\Local\\Temp\\ipykernel_5636\\978419686.py:10: FutureWarning: The frame.append method is deprecated and will be removed from pandas in a future version. Use pandas.concat instead.\n",
      "  tweets_df = tweets_df.append(pd.DataFrame({'user_name': tweet.user.name,\n",
      " 22%|█████████████████▊                                                               | 22/100 [00:06<00:21,  3.66it/s]C:\\Users\\prabh\\AppData\\Local\\Temp\\ipykernel_5636\\978419686.py:10: FutureWarning: The frame.append method is deprecated and will be removed from pandas in a future version. Use pandas.concat instead.\n",
      "  tweets_df = tweets_df.append(pd.DataFrame({'user_name': tweet.user.name,\n",
      " 23%|██████████████████▋                                                              | 23/100 [00:07<00:21,  3.58it/s]C:\\Users\\prabh\\AppData\\Local\\Temp\\ipykernel_5636\\978419686.py:10: FutureWarning: The frame.append method is deprecated and will be removed from pandas in a future version. Use pandas.concat instead.\n",
      "  tweets_df = tweets_df.append(pd.DataFrame({'user_name': tweet.user.name,\n",
      " 24%|███████████████████▍                                                             | 24/100 [00:07<00:21,  3.51it/s]C:\\Users\\prabh\\AppData\\Local\\Temp\\ipykernel_5636\\978419686.py:10: FutureWarning: The frame.append method is deprecated and will be removed from pandas in a future version. Use pandas.concat instead.\n",
      "  tweets_df = tweets_df.append(pd.DataFrame({'user_name': tweet.user.name,\n",
      " 25%|████████████████████▎                                                            | 25/100 [00:07<00:21,  3.56it/s]C:\\Users\\prabh\\AppData\\Local\\Temp\\ipykernel_5636\\978419686.py:10: FutureWarning: The frame.append method is deprecated and will be removed from pandas in a future version. Use pandas.concat instead.\n",
      "  tweets_df = tweets_df.append(pd.DataFrame({'user_name': tweet.user.name,\n",
      " 26%|█████████████████████                                                            | 26/100 [00:07<00:20,  3.56it/s]C:\\Users\\prabh\\AppData\\Local\\Temp\\ipykernel_5636\\978419686.py:10: FutureWarning: The frame.append method is deprecated and will be removed from pandas in a future version. Use pandas.concat instead.\n",
      "  tweets_df = tweets_df.append(pd.DataFrame({'user_name': tweet.user.name,\n",
      " 27%|█████████████████████▊                                                           | 27/100 [00:08<00:19,  3.68it/s]C:\\Users\\prabh\\AppData\\Local\\Temp\\ipykernel_5636\\978419686.py:10: FutureWarning: The frame.append method is deprecated and will be removed from pandas in a future version. Use pandas.concat instead.\n",
      "  tweets_df = tweets_df.append(pd.DataFrame({'user_name': tweet.user.name,\n",
      " 28%|██████████████████████▋                                                          | 28/100 [00:08<00:20,  3.49it/s]C:\\Users\\prabh\\AppData\\Local\\Temp\\ipykernel_5636\\978419686.py:10: FutureWarning: The frame.append method is deprecated and will be removed from pandas in a future version. Use pandas.concat instead.\n",
      "  tweets_df = tweets_df.append(pd.DataFrame({'user_name': tweet.user.name,\n",
      " 29%|███████████████████████▍                                                         | 29/100 [00:08<00:19,  3.70it/s]C:\\Users\\prabh\\AppData\\Local\\Temp\\ipykernel_5636\\978419686.py:10: FutureWarning: The frame.append method is deprecated and will be removed from pandas in a future version. Use pandas.concat instead.\n",
      "  tweets_df = tweets_df.append(pd.DataFrame({'user_name': tweet.user.name,\n",
      " 30%|████████████████████████▎                                                        | 30/100 [00:08<00:18,  3.84it/s]C:\\Users\\prabh\\AppData\\Local\\Temp\\ipykernel_5636\\978419686.py:10: FutureWarning: The frame.append method is deprecated and will be removed from pandas in a future version. Use pandas.concat instead.\n",
      "  tweets_df = tweets_df.append(pd.DataFrame({'user_name': tweet.user.name,\n",
      " 31%|█████████████████████████                                                        | 31/100 [00:09<00:17,  3.85it/s]C:\\Users\\prabh\\AppData\\Local\\Temp\\ipykernel_5636\\978419686.py:10: FutureWarning: The frame.append method is deprecated and will be removed from pandas in a future version. Use pandas.concat instead.\n",
      "  tweets_df = tweets_df.append(pd.DataFrame({'user_name': tweet.user.name,\n",
      " 32%|█████████████████████████▉                                                       | 32/100 [00:09<00:18,  3.69it/s]C:\\Users\\prabh\\AppData\\Local\\Temp\\ipykernel_5636\\978419686.py:10: FutureWarning: The frame.append method is deprecated and will be removed from pandas in a future version. Use pandas.concat instead.\n",
      "  tweets_df = tweets_df.append(pd.DataFrame({'user_name': tweet.user.name,\n",
      " 33%|██████████████████████████▋                                                      | 33/100 [00:09<00:17,  3.77it/s]C:\\Users\\prabh\\AppData\\Local\\Temp\\ipykernel_5636\\978419686.py:10: FutureWarning: The frame.append method is deprecated and will be removed from pandas in a future version. Use pandas.concat instead.\n",
      "  tweets_df = tweets_df.append(pd.DataFrame({'user_name': tweet.user.name,\n",
      " 34%|███████████████████████████▌                                                     | 34/100 [00:10<00:19,  3.39it/s]C:\\Users\\prabh\\AppData\\Local\\Temp\\ipykernel_5636\\978419686.py:10: FutureWarning: The frame.append method is deprecated and will be removed from pandas in a future version. Use pandas.concat instead.\n",
      "  tweets_df = tweets_df.append(pd.DataFrame({'user_name': tweet.user.name,\n",
      " 35%|████████████████████████████▎                                                    | 35/100 [00:10<00:21,  2.98it/s]C:\\Users\\prabh\\AppData\\Local\\Temp\\ipykernel_5636\\978419686.py:10: FutureWarning: The frame.append method is deprecated and will be removed from pandas in a future version. Use pandas.concat instead.\n",
      "  tweets_df = tweets_df.append(pd.DataFrame({'user_name': tweet.user.name,\n",
      " 36%|█████████████████████████████▏                                                   | 36/100 [00:10<00:19,  3.29it/s]C:\\Users\\prabh\\AppData\\Local\\Temp\\ipykernel_5636\\978419686.py:10: FutureWarning: The frame.append method is deprecated and will be removed from pandas in a future version. Use pandas.concat instead.\n",
      "  tweets_df = tweets_df.append(pd.DataFrame({'user_name': tweet.user.name,\n",
      " 37%|█████████████████████████████▉                                                   | 37/100 [00:11<00:18,  3.38it/s]C:\\Users\\prabh\\AppData\\Local\\Temp\\ipykernel_5636\\978419686.py:10: FutureWarning: The frame.append method is deprecated and will be removed from pandas in a future version. Use pandas.concat instead.\n",
      "  tweets_df = tweets_df.append(pd.DataFrame({'user_name': tweet.user.name,\n",
      " 38%|██████████████████████████████▊                                                  | 38/100 [00:11<00:18,  3.41it/s]C:\\Users\\prabh\\AppData\\Local\\Temp\\ipykernel_5636\\978419686.py:10: FutureWarning: The frame.append method is deprecated and will be removed from pandas in a future version. Use pandas.concat instead.\n",
      "  tweets_df = tweets_df.append(pd.DataFrame({'user_name': tweet.user.name,\n",
      " 39%|███████████████████████████████▌                                                 | 39/100 [00:11<00:17,  3.57it/s]C:\\Users\\prabh\\AppData\\Local\\Temp\\ipykernel_5636\\978419686.py:10: FutureWarning: The frame.append method is deprecated and will be removed from pandas in a future version. Use pandas.concat instead.\n",
      "  tweets_df = tweets_df.append(pd.DataFrame({'user_name': tweet.user.name,\n",
      " 40%|████████████████████████████████▍                                                | 40/100 [00:11<00:16,  3.70it/s]C:\\Users\\prabh\\AppData\\Local\\Temp\\ipykernel_5636\\978419686.py:10: FutureWarning: The frame.append method is deprecated and will be removed from pandas in a future version. Use pandas.concat instead.\n",
      "  tweets_df = tweets_df.append(pd.DataFrame({'user_name': tweet.user.name,\n",
      " 41%|█████████████████████████████████▏                                               | 41/100 [00:12<00:16,  3.48it/s]C:\\Users\\prabh\\AppData\\Local\\Temp\\ipykernel_5636\\978419686.py:10: FutureWarning: The frame.append method is deprecated and will be removed from pandas in a future version. Use pandas.concat instead.\n",
      "  tweets_df = tweets_df.append(pd.DataFrame({'user_name': tweet.user.name,\n"
     ]
    },
    {
     "name": "stderr",
     "output_type": "stream",
     "text": [
      " 42%|██████████████████████████████████                                               | 42/100 [00:12<00:16,  3.42it/s]C:\\Users\\prabh\\AppData\\Local\\Temp\\ipykernel_5636\\978419686.py:10: FutureWarning: The frame.append method is deprecated and will be removed from pandas in a future version. Use pandas.concat instead.\n",
      "  tweets_df = tweets_df.append(pd.DataFrame({'user_name': tweet.user.name,\n",
      " 43%|██████████████████████████████████▊                                              | 43/100 [00:12<00:15,  3.58it/s]C:\\Users\\prabh\\AppData\\Local\\Temp\\ipykernel_5636\\978419686.py:10: FutureWarning: The frame.append method is deprecated and will be removed from pandas in a future version. Use pandas.concat instead.\n",
      "  tweets_df = tweets_df.append(pd.DataFrame({'user_name': tweet.user.name,\n",
      " 44%|███████████████████████████████████▋                                             | 44/100 [00:13<00:17,  3.27it/s]C:\\Users\\prabh\\AppData\\Local\\Temp\\ipykernel_5636\\978419686.py:10: FutureWarning: The frame.append method is deprecated and will be removed from pandas in a future version. Use pandas.concat instead.\n",
      "  tweets_df = tweets_df.append(pd.DataFrame({'user_name': tweet.user.name,\n",
      " 45%|████████████████████████████████████▍                                            | 45/100 [00:13<00:16,  3.40it/s]C:\\Users\\prabh\\AppData\\Local\\Temp\\ipykernel_5636\\978419686.py:10: FutureWarning: The frame.append method is deprecated and will be removed from pandas in a future version. Use pandas.concat instead.\n",
      "  tweets_df = tweets_df.append(pd.DataFrame({'user_name': tweet.user.name,\n",
      " 46%|█████████████████████████████████████▎                                           | 46/100 [00:13<00:16,  3.22it/s]C:\\Users\\prabh\\AppData\\Local\\Temp\\ipykernel_5636\\978419686.py:10: FutureWarning: The frame.append method is deprecated and will be removed from pandas in a future version. Use pandas.concat instead.\n",
      "  tweets_df = tweets_df.append(pd.DataFrame({'user_name': tweet.user.name,\n",
      " 47%|██████████████████████████████████████                                           | 47/100 [00:14<00:18,  2.87it/s]C:\\Users\\prabh\\AppData\\Local\\Temp\\ipykernel_5636\\978419686.py:10: FutureWarning: The frame.append method is deprecated and will be removed from pandas in a future version. Use pandas.concat instead.\n",
      "  tweets_df = tweets_df.append(pd.DataFrame({'user_name': tweet.user.name,\n",
      " 48%|██████████████████████████████████████▉                                          | 48/100 [00:14<00:16,  3.08it/s]C:\\Users\\prabh\\AppData\\Local\\Temp\\ipykernel_5636\\978419686.py:10: FutureWarning: The frame.append method is deprecated and will be removed from pandas in a future version. Use pandas.concat instead.\n",
      "  tweets_df = tweets_df.append(pd.DataFrame({'user_name': tweet.user.name,\n",
      " 49%|███████████████████████████████████████▋                                         | 49/100 [00:14<00:16,  3.11it/s]C:\\Users\\prabh\\AppData\\Local\\Temp\\ipykernel_5636\\978419686.py:10: FutureWarning: The frame.append method is deprecated and will be removed from pandas in a future version. Use pandas.concat instead.\n",
      "  tweets_df = tweets_df.append(pd.DataFrame({'user_name': tweet.user.name,\n",
      " 50%|████████████████████████████████████████▌                                        | 50/100 [00:15<00:15,  3.14it/s]C:\\Users\\prabh\\AppData\\Local\\Temp\\ipykernel_5636\\978419686.py:10: FutureWarning: The frame.append method is deprecated and will be removed from pandas in a future version. Use pandas.concat instead.\n",
      "  tweets_df = tweets_df.append(pd.DataFrame({'user_name': tweet.user.name,\n",
      " 51%|█████████████████████████████████████████▎                                       | 51/100 [00:15<00:15,  3.18it/s]C:\\Users\\prabh\\AppData\\Local\\Temp\\ipykernel_5636\\978419686.py:10: FutureWarning: The frame.append method is deprecated and will be removed from pandas in a future version. Use pandas.concat instead.\n",
      "  tweets_df = tweets_df.append(pd.DataFrame({'user_name': tweet.user.name,\n",
      " 52%|██████████████████████████████████████████                                       | 52/100 [00:15<00:14,  3.34it/s]C:\\Users\\prabh\\AppData\\Local\\Temp\\ipykernel_5636\\978419686.py:10: FutureWarning: The frame.append method is deprecated and will be removed from pandas in a future version. Use pandas.concat instead.\n",
      "  tweets_df = tweets_df.append(pd.DataFrame({'user_name': tweet.user.name,\n",
      " 53%|██████████████████████████████████████████▉                                      | 53/100 [00:15<00:14,  3.17it/s]C:\\Users\\prabh\\AppData\\Local\\Temp\\ipykernel_5636\\978419686.py:10: FutureWarning: The frame.append method is deprecated and will be removed from pandas in a future version. Use pandas.concat instead.\n",
      "  tweets_df = tweets_df.append(pd.DataFrame({'user_name': tweet.user.name,\n",
      " 54%|███████████████████████████████████████████▋                                     | 54/100 [00:16<00:13,  3.34it/s]C:\\Users\\prabh\\AppData\\Local\\Temp\\ipykernel_5636\\978419686.py:10: FutureWarning: The frame.append method is deprecated and will be removed from pandas in a future version. Use pandas.concat instead.\n",
      "  tweets_df = tweets_df.append(pd.DataFrame({'user_name': tweet.user.name,\n",
      " 55%|████████████████████████████████████████████▌                                    | 55/100 [00:16<00:12,  3.51it/s]C:\\Users\\prabh\\AppData\\Local\\Temp\\ipykernel_5636\\978419686.py:10: FutureWarning: The frame.append method is deprecated and will be removed from pandas in a future version. Use pandas.concat instead.\n",
      "  tweets_df = tweets_df.append(pd.DataFrame({'user_name': tweet.user.name,\n",
      " 56%|█████████████████████████████████████████████▎                                   | 56/100 [00:16<00:12,  3.42it/s]C:\\Users\\prabh\\AppData\\Local\\Temp\\ipykernel_5636\\978419686.py:10: FutureWarning: The frame.append method is deprecated and will be removed from pandas in a future version. Use pandas.concat instead.\n",
      "  tweets_df = tweets_df.append(pd.DataFrame({'user_name': tweet.user.name,\n",
      " 57%|██████████████████████████████████████████████▏                                  | 57/100 [00:17<00:12,  3.36it/s]C:\\Users\\prabh\\AppData\\Local\\Temp\\ipykernel_5636\\978419686.py:10: FutureWarning: The frame.append method is deprecated and will be removed from pandas in a future version. Use pandas.concat instead.\n",
      "  tweets_df = tweets_df.append(pd.DataFrame({'user_name': tweet.user.name,\n",
      " 58%|██████████████████████████████████████████████▉                                  | 58/100 [00:17<00:12,  3.49it/s]C:\\Users\\prabh\\AppData\\Local\\Temp\\ipykernel_5636\\978419686.py:10: FutureWarning: The frame.append method is deprecated and will be removed from pandas in a future version. Use pandas.concat instead.\n",
      "  tweets_df = tweets_df.append(pd.DataFrame({'user_name': tweet.user.name,\n",
      " 59%|███████████████████████████████████████████████▊                                 | 59/100 [00:17<00:12,  3.29it/s]C:\\Users\\prabh\\AppData\\Local\\Temp\\ipykernel_5636\\978419686.py:10: FutureWarning: The frame.append method is deprecated and will be removed from pandas in a future version. Use pandas.concat instead.\n",
      "  tweets_df = tweets_df.append(pd.DataFrame({'user_name': tweet.user.name,\n",
      " 60%|████████████████████████████████████████████████▌                                | 60/100 [00:17<00:11,  3.43it/s]C:\\Users\\prabh\\AppData\\Local\\Temp\\ipykernel_5636\\978419686.py:10: FutureWarning: The frame.append method is deprecated and will be removed from pandas in a future version. Use pandas.concat instead.\n",
      "  tweets_df = tweets_df.append(pd.DataFrame({'user_name': tweet.user.name,\n",
      " 61%|█████████████████████████████████████████████████▍                               | 61/100 [00:18<00:11,  3.37it/s]C:\\Users\\prabh\\AppData\\Local\\Temp\\ipykernel_5636\\978419686.py:10: FutureWarning: The frame.append method is deprecated and will be removed from pandas in a future version. Use pandas.concat instead.\n",
      "  tweets_df = tweets_df.append(pd.DataFrame({'user_name': tweet.user.name,\n",
      " 62%|██████████████████████████████████████████████████▏                              | 62/100 [00:18<00:11,  3.20it/s]C:\\Users\\prabh\\AppData\\Local\\Temp\\ipykernel_5636\\978419686.py:10: FutureWarning: The frame.append method is deprecated and will be removed from pandas in a future version. Use pandas.concat instead.\n",
      "  tweets_df = tweets_df.append(pd.DataFrame({'user_name': tweet.user.name,\n"
     ]
    },
    {
     "name": "stderr",
     "output_type": "stream",
     "text": [
      " 63%|███████████████████████████████████████████████████                              | 63/100 [00:18<00:10,  3.38it/s]C:\\Users\\prabh\\AppData\\Local\\Temp\\ipykernel_5636\\978419686.py:10: FutureWarning: The frame.append method is deprecated and will be removed from pandas in a future version. Use pandas.concat instead.\n",
      "  tweets_df = tweets_df.append(pd.DataFrame({'user_name': tweet.user.name,\n",
      " 64%|███████████████████████████████████████████████████▊                             | 64/100 [00:19<00:11,  3.19it/s]C:\\Users\\prabh\\AppData\\Local\\Temp\\ipykernel_5636\\978419686.py:10: FutureWarning: The frame.append method is deprecated and will be removed from pandas in a future version. Use pandas.concat instead.\n",
      "  tweets_df = tweets_df.append(pd.DataFrame({'user_name': tweet.user.name,\n",
      " 65%|████████████████████████████████████████████████████▋                            | 65/100 [00:19<00:10,  3.20it/s]C:\\Users\\prabh\\AppData\\Local\\Temp\\ipykernel_5636\\978419686.py:10: FutureWarning: The frame.append method is deprecated and will be removed from pandas in a future version. Use pandas.concat instead.\n",
      "  tweets_df = tweets_df.append(pd.DataFrame({'user_name': tweet.user.name,\n",
      " 66%|█████████████████████████████████████████████████████▍                           | 66/100 [00:19<00:10,  3.35it/s]C:\\Users\\prabh\\AppData\\Local\\Temp\\ipykernel_5636\\978419686.py:10: FutureWarning: The frame.append method is deprecated and will be removed from pandas in a future version. Use pandas.concat instead.\n",
      "  tweets_df = tweets_df.append(pd.DataFrame({'user_name': tweet.user.name,\n",
      " 67%|██████████████████████████████████████████████████████▎                          | 67/100 [00:20<00:10,  3.18it/s]C:\\Users\\prabh\\AppData\\Local\\Temp\\ipykernel_5636\\978419686.py:10: FutureWarning: The frame.append method is deprecated and will be removed from pandas in a future version. Use pandas.concat instead.\n",
      "  tweets_df = tweets_df.append(pd.DataFrame({'user_name': tweet.user.name,\n",
      " 68%|███████████████████████████████████████████████████████                          | 68/100 [00:20<00:09,  3.21it/s]C:\\Users\\prabh\\AppData\\Local\\Temp\\ipykernel_5636\\978419686.py:10: FutureWarning: The frame.append method is deprecated and will be removed from pandas in a future version. Use pandas.concat instead.\n",
      "  tweets_df = tweets_df.append(pd.DataFrame({'user_name': tweet.user.name,\n",
      " 69%|███████████████████████████████████████████████████████▉                         | 69/100 [00:20<00:09,  3.15it/s]C:\\Users\\prabh\\AppData\\Local\\Temp\\ipykernel_5636\\978419686.py:10: FutureWarning: The frame.append method is deprecated and will be removed from pandas in a future version. Use pandas.concat instead.\n",
      "  tweets_df = tweets_df.append(pd.DataFrame({'user_name': tweet.user.name,\n",
      " 70%|████████████████████████████████████████████████████████▋                        | 70/100 [00:21<00:08,  3.42it/s]C:\\Users\\prabh\\AppData\\Local\\Temp\\ipykernel_5636\\978419686.py:10: FutureWarning: The frame.append method is deprecated and will be removed from pandas in a future version. Use pandas.concat instead.\n",
      "  tweets_df = tweets_df.append(pd.DataFrame({'user_name': tweet.user.name,\n",
      " 71%|█████████████████████████████████████████████████████████▌                       | 71/100 [00:21<00:08,  3.52it/s]C:\\Users\\prabh\\AppData\\Local\\Temp\\ipykernel_5636\\978419686.py:10: FutureWarning: The frame.append method is deprecated and will be removed from pandas in a future version. Use pandas.concat instead.\n",
      "  tweets_df = tweets_df.append(pd.DataFrame({'user_name': tweet.user.name,\n",
      " 72%|██████████████████████████████████████████████████████████▎                      | 72/100 [00:21<00:08,  3.45it/s]C:\\Users\\prabh\\AppData\\Local\\Temp\\ipykernel_5636\\978419686.py:10: FutureWarning: The frame.append method is deprecated and will be removed from pandas in a future version. Use pandas.concat instead.\n",
      "  tweets_df = tweets_df.append(pd.DataFrame({'user_name': tweet.user.name,\n",
      " 73%|███████████████████████████████████████████████████████████▏                     | 73/100 [00:21<00:07,  3.38it/s]C:\\Users\\prabh\\AppData\\Local\\Temp\\ipykernel_5636\\978419686.py:10: FutureWarning: The frame.append method is deprecated and will be removed from pandas in a future version. Use pandas.concat instead.\n",
      "  tweets_df = tweets_df.append(pd.DataFrame({'user_name': tweet.user.name,\n",
      " 74%|███████████████████████████████████████████████████████████▉                     | 74/100 [00:22<00:07,  3.54it/s]C:\\Users\\prabh\\AppData\\Local\\Temp\\ipykernel_5636\\978419686.py:10: FutureWarning: The frame.append method is deprecated and will be removed from pandas in a future version. Use pandas.concat instead.\n",
      "  tweets_df = tweets_df.append(pd.DataFrame({'user_name': tweet.user.name,\n",
      " 75%|████████████████████████████████████████████████████████████▊                    | 75/100 [00:22<00:06,  3.65it/s]C:\\Users\\prabh\\AppData\\Local\\Temp\\ipykernel_5636\\978419686.py:10: FutureWarning: The frame.append method is deprecated and will be removed from pandas in a future version. Use pandas.concat instead.\n",
      "  tweets_df = tweets_df.append(pd.DataFrame({'user_name': tweet.user.name,\n",
      " 76%|█████████████████████████████████████████████████████████████▌                   | 76/100 [00:22<00:06,  3.71it/s]C:\\Users\\prabh\\AppData\\Local\\Temp\\ipykernel_5636\\978419686.py:10: FutureWarning: The frame.append method is deprecated and will be removed from pandas in a future version. Use pandas.concat instead.\n",
      "  tweets_df = tweets_df.append(pd.DataFrame({'user_name': tweet.user.name,\n",
      " 77%|██████████████████████████████████████████████████████████████▎                  | 77/100 [00:22<00:06,  3.69it/s]C:\\Users\\prabh\\AppData\\Local\\Temp\\ipykernel_5636\\978419686.py:10: FutureWarning: The frame.append method is deprecated and will be removed from pandas in a future version. Use pandas.concat instead.\n",
      "  tweets_df = tweets_df.append(pd.DataFrame({'user_name': tweet.user.name,\n",
      " 78%|███████████████████████████████████████████████████████████████▏                 | 78/100 [00:23<00:05,  3.72it/s]C:\\Users\\prabh\\AppData\\Local\\Temp\\ipykernel_5636\\978419686.py:10: FutureWarning: The frame.append method is deprecated and will be removed from pandas in a future version. Use pandas.concat instead.\n",
      "  tweets_df = tweets_df.append(pd.DataFrame({'user_name': tweet.user.name,\n",
      " 79%|███████████████████████████████████████████████████████████████▉                 | 79/100 [00:23<00:06,  3.49it/s]C:\\Users\\prabh\\AppData\\Local\\Temp\\ipykernel_5636\\978419686.py:10: FutureWarning: The frame.append method is deprecated and will be removed from pandas in a future version. Use pandas.concat instead.\n",
      "  tweets_df = tweets_df.append(pd.DataFrame({'user_name': tweet.user.name,\n",
      " 80%|████████████████████████████████████████████████████████████████▊                | 80/100 [00:23<00:05,  3.58it/s]C:\\Users\\prabh\\AppData\\Local\\Temp\\ipykernel_5636\\978419686.py:10: FutureWarning: The frame.append method is deprecated and will be removed from pandas in a future version. Use pandas.concat instead.\n",
      "  tweets_df = tweets_df.append(pd.DataFrame({'user_name': tweet.user.name,\n",
      " 81%|█████████████████████████████████████████████████████████████████▌               | 81/100 [00:24<00:05,  3.32it/s]C:\\Users\\prabh\\AppData\\Local\\Temp\\ipykernel_5636\\978419686.py:10: FutureWarning: The frame.append method is deprecated and will be removed from pandas in a future version. Use pandas.concat instead.\n",
      "  tweets_df = tweets_df.append(pd.DataFrame({'user_name': tweet.user.name,\n",
      " 82%|██████████████████████████████████████████████████████████████████▍              | 82/100 [00:24<00:05,  3.40it/s]C:\\Users\\prabh\\AppData\\Local\\Temp\\ipykernel_5636\\978419686.py:10: FutureWarning: The frame.append method is deprecated and will be removed from pandas in a future version. Use pandas.concat instead.\n",
      "  tweets_df = tweets_df.append(pd.DataFrame({'user_name': tweet.user.name,\n",
      " 83%|███████████████████████████████████████████████████████████████████▏             | 83/100 [00:24<00:04,  3.56it/s]C:\\Users\\prabh\\AppData\\Local\\Temp\\ipykernel_5636\\978419686.py:10: FutureWarning: The frame.append method is deprecated and will be removed from pandas in a future version. Use pandas.concat instead.\n",
      "  tweets_df = tweets_df.append(pd.DataFrame({'user_name': tweet.user.name,\n"
     ]
    },
    {
     "name": "stderr",
     "output_type": "stream",
     "text": [
      " 84%|████████████████████████████████████████████████████████████████████             | 84/100 [00:24<00:04,  3.69it/s]C:\\Users\\prabh\\AppData\\Local\\Temp\\ipykernel_5636\\978419686.py:10: FutureWarning: The frame.append method is deprecated and will be removed from pandas in a future version. Use pandas.concat instead.\n",
      "  tweets_df = tweets_df.append(pd.DataFrame({'user_name': tweet.user.name,\n",
      " 85%|████████████████████████████████████████████████████████████████████▊            | 85/100 [00:25<00:04,  3.43it/s]C:\\Users\\prabh\\AppData\\Local\\Temp\\ipykernel_5636\\978419686.py:10: FutureWarning: The frame.append method is deprecated and will be removed from pandas in a future version. Use pandas.concat instead.\n",
      "  tweets_df = tweets_df.append(pd.DataFrame({'user_name': tweet.user.name,\n",
      " 86%|█████████████████████████████████████████████████████████████████████▋           | 86/100 [00:25<00:04,  3.31it/s]C:\\Users\\prabh\\AppData\\Local\\Temp\\ipykernel_5636\\978419686.py:10: FutureWarning: The frame.append method is deprecated and will be removed from pandas in a future version. Use pandas.concat instead.\n",
      "  tweets_df = tweets_df.append(pd.DataFrame({'user_name': tweet.user.name,\n",
      " 87%|██████████████████████████████████████████████████████████████████████▍          | 87/100 [00:25<00:03,  3.48it/s]C:\\Users\\prabh\\AppData\\Local\\Temp\\ipykernel_5636\\978419686.py:10: FutureWarning: The frame.append method is deprecated and will be removed from pandas in a future version. Use pandas.concat instead.\n",
      "  tweets_df = tweets_df.append(pd.DataFrame({'user_name': tweet.user.name,\n",
      " 88%|███████████████████████████████████████████████████████████████████████▎         | 88/100 [00:26<00:03,  3.44it/s]C:\\Users\\prabh\\AppData\\Local\\Temp\\ipykernel_5636\\978419686.py:10: FutureWarning: The frame.append method is deprecated and will be removed from pandas in a future version. Use pandas.concat instead.\n",
      "  tweets_df = tweets_df.append(pd.DataFrame({'user_name': tweet.user.name,\n",
      " 89%|████████████████████████████████████████████████████████████████████████         | 89/100 [00:26<00:03,  3.56it/s]C:\\Users\\prabh\\AppData\\Local\\Temp\\ipykernel_5636\\978419686.py:10: FutureWarning: The frame.append method is deprecated and will be removed from pandas in a future version. Use pandas.concat instead.\n",
      "  tweets_df = tweets_df.append(pd.DataFrame({'user_name': tweet.user.name,\n",
      " 90%|████████████████████████████████████████████████████████████████████████▉        | 90/100 [00:26<00:02,  3.68it/s]C:\\Users\\prabh\\AppData\\Local\\Temp\\ipykernel_5636\\978419686.py:10: FutureWarning: The frame.append method is deprecated and will be removed from pandas in a future version. Use pandas.concat instead.\n",
      "  tweets_df = tweets_df.append(pd.DataFrame({'user_name': tweet.user.name,\n",
      " 91%|█████████████████████████████████████████████████████████████████████████▋       | 91/100 [00:27<00:02,  3.33it/s]C:\\Users\\prabh\\AppData\\Local\\Temp\\ipykernel_5636\\978419686.py:10: FutureWarning: The frame.append method is deprecated and will be removed from pandas in a future version. Use pandas.concat instead.\n",
      "  tweets_df = tweets_df.append(pd.DataFrame({'user_name': tweet.user.name,\n",
      " 92%|██████████████████████████████████████████████████████████████████████████▌      | 92/100 [00:27<00:02,  3.46it/s]C:\\Users\\prabh\\AppData\\Local\\Temp\\ipykernel_5636\\978419686.py:10: FutureWarning: The frame.append method is deprecated and will be removed from pandas in a future version. Use pandas.concat instead.\n",
      "  tweets_df = tweets_df.append(pd.DataFrame({'user_name': tweet.user.name,\n",
      " 93%|███████████████████████████████████████████████████████████████████████████▎     | 93/100 [00:27<00:02,  3.26it/s]C:\\Users\\prabh\\AppData\\Local\\Temp\\ipykernel_5636\\978419686.py:10: FutureWarning: The frame.append method is deprecated and will be removed from pandas in a future version. Use pandas.concat instead.\n",
      "  tweets_df = tweets_df.append(pd.DataFrame({'user_name': tweet.user.name,\n",
      " 94%|████████████████████████████████████████████████████████████████████████████▏    | 94/100 [00:27<00:01,  3.42it/s]C:\\Users\\prabh\\AppData\\Local\\Temp\\ipykernel_5636\\978419686.py:10: FutureWarning: The frame.append method is deprecated and will be removed from pandas in a future version. Use pandas.concat instead.\n",
      "  tweets_df = tweets_df.append(pd.DataFrame({'user_name': tweet.user.name,\n",
      " 95%|████████████████████████████████████████████████████████████████████████████▉    | 95/100 [00:28<00:01,  3.25it/s]C:\\Users\\prabh\\AppData\\Local\\Temp\\ipykernel_5636\\978419686.py:10: FutureWarning: The frame.append method is deprecated and will be removed from pandas in a future version. Use pandas.concat instead.\n",
      "  tweets_df = tweets_df.append(pd.DataFrame({'user_name': tweet.user.name,\n",
      " 96%|█████████████████████████████████████████████████████████████████████████████▊   | 96/100 [00:28<00:01,  3.21it/s]C:\\Users\\prabh\\AppData\\Local\\Temp\\ipykernel_5636\\978419686.py:10: FutureWarning: The frame.append method is deprecated and will be removed from pandas in a future version. Use pandas.concat instead.\n",
      "  tweets_df = tweets_df.append(pd.DataFrame({'user_name': tweet.user.name,\n",
      " 97%|██████████████████████████████████████████████████████████████████████████████▌  | 97/100 [00:28<00:00,  3.38it/s]C:\\Users\\prabh\\AppData\\Local\\Temp\\ipykernel_5636\\978419686.py:10: FutureWarning: The frame.append method is deprecated and will be removed from pandas in a future version. Use pandas.concat instead.\n",
      "  tweets_df = tweets_df.append(pd.DataFrame({'user_name': tweet.user.name,\n",
      " 98%|███████████████████████████████████████████████████████████████████████████████▍ | 98/100 [00:29<00:00,  3.19it/s]C:\\Users\\prabh\\AppData\\Local\\Temp\\ipykernel_5636\\978419686.py:10: FutureWarning: The frame.append method is deprecated and will be removed from pandas in a future version. Use pandas.concat instead.\n",
      "  tweets_df = tweets_df.append(pd.DataFrame({'user_name': tweet.user.name,\n",
      " 99%|████████████████████████████████████████████████████████████████████████████████▏| 99/100 [00:29<00:00,  3.18it/s]C:\\Users\\prabh\\AppData\\Local\\Temp\\ipykernel_5636\\978419686.py:10: FutureWarning: The frame.append method is deprecated and will be removed from pandas in a future version. Use pandas.concat instead.\n",
      "  tweets_df = tweets_df.append(pd.DataFrame({'user_name': tweet.user.name,\n",
      "100%|████████████████████████████████████████████████████████████████████████████████| 100/100 [00:29<00:00,  3.35it/s]\n"
     ]
    }
   ],
   "source": [
    "tweets_df = pd.DataFrame()\n",
    "for tweet in tqdm(tweets_copy):\n",
    "    hashtags = []\n",
    "    try:\n",
    "        for hashtag in tweet.entities[\"hashtags\"]:\n",
    "            hashtags.append(hashtag[\"text\"])\n",
    "        text = api.get_status(id=tweet.id, tweet_mode='extended').full_text\n",
    "    except:\n",
    "        pass\n",
    "    tweets_df = tweets_df.append(pd.DataFrame({'user_name': tweet.user.name, \n",
    "                                               'user_location': tweet.user.location,\\\n",
    "                                               'user_description': tweet.user.description,\n",
    "                                               'user_created': tweet.user.created_at,\n",
    "                                               'user_followers': tweet.user.followers_count,\n",
    "                                               'user_friends': tweet.user.friends_count,\n",
    "                                               'user_favourites': tweet.user.favourites_count,\n",
    "                                               'user_verified': tweet.user.verified,\n",
    "                                               'date': tweet.created_at,\n",
    "                                               'text': text, \n",
    "                                               'hashtags': [hashtags if hashtags else None],\n",
    "                                               'source': tweet.source,\n",
    "                                               'is_retweet': tweet.retweeted}, index=[0]))"
   ]
  },
  {
   "cell_type": "code",
   "execution_count": 8,
   "metadata": {
    "scrolled": false
   },
   "outputs": [
    {
     "data": {
      "text/html": [
       "<div>\n",
       "<style scoped>\n",
       "    .dataframe tbody tr th:only-of-type {\n",
       "        vertical-align: middle;\n",
       "    }\n",
       "\n",
       "    .dataframe tbody tr th {\n",
       "        vertical-align: top;\n",
       "    }\n",
       "\n",
       "    .dataframe thead th {\n",
       "        text-align: right;\n",
       "    }\n",
       "</style>\n",
       "<table border=\"1\" class=\"dataframe\">\n",
       "  <thead>\n",
       "    <tr style=\"text-align: right;\">\n",
       "      <th></th>\n",
       "      <th>user_name</th>\n",
       "      <th>user_location</th>\n",
       "      <th>user_description</th>\n",
       "      <th>user_created</th>\n",
       "      <th>user_followers</th>\n",
       "      <th>user_friends</th>\n",
       "      <th>user_favourites</th>\n",
       "      <th>user_verified</th>\n",
       "      <th>date</th>\n",
       "      <th>text</th>\n",
       "      <th>hashtags</th>\n",
       "      <th>source</th>\n",
       "      <th>is_retweet</th>\n",
       "    </tr>\n",
       "  </thead>\n",
       "  <tbody>\n",
       "    <tr>\n",
       "      <th>0</th>\n",
       "      <td>Shuja Ahmed Ch.</td>\n",
       "      <td>Dubai, UAE</td>\n",
       "      <td>I’m here to avoid my friends on Facebook.</td>\n",
       "      <td>2009-08-02 20:52:11+00:00</td>\n",
       "      <td>688</td>\n",
       "      <td>702</td>\n",
       "      <td>341</td>\n",
       "      <td>False</td>\n",
       "      <td>2022-07-15 13:35:59+00:00</td>\n",
       "      <td>#Indonesia: In their closed door meetings, the...</td>\n",
       "      <td>[Indonesia]</td>\n",
       "      <td>Microsoft Power Platform</td>\n",
       "      <td>False</td>\n",
       "    </tr>\n",
       "    <tr>\n",
       "      <th>0</th>\n",
       "      <td>Betterment Lab</td>\n",
       "      <td>Washington, DC</td>\n",
       "      <td>A #personalfinance #blog on a mission to give ...</td>\n",
       "      <td>2019-09-06 02:10:19+00:00</td>\n",
       "      <td>2307</td>\n",
       "      <td>1166</td>\n",
       "      <td>177</td>\n",
       "      <td>False</td>\n",
       "      <td>2022-07-15 13:35:09+00:00</td>\n",
       "      <td>Aer Lingus misery; a grim economic outlook; an...</td>\n",
       "      <td>None</td>\n",
       "      <td>ContentStudio.io</td>\n",
       "      <td>False</td>\n",
       "    </tr>\n",
       "    <tr>\n",
       "      <th>0</th>\n",
       "      <td>Moneza Inc</td>\n",
       "      <td>USA</td>\n",
       "      <td>Using Machine Learning, Moneza identifies misp...</td>\n",
       "      <td>2022-04-13 13:26:01+00:00</td>\n",
       "      <td>41</td>\n",
       "      <td>7</td>\n",
       "      <td>21</td>\n",
       "      <td>False</td>\n",
       "      <td>2022-07-15 13:35:02+00:00</td>\n",
       "      <td>VRP 350 AI Last 10 Trade Performance\\nInvest: ...</td>\n",
       "      <td>None</td>\n",
       "      <td>MaikaMoneza</td>\n",
       "      <td>False</td>\n",
       "    </tr>\n",
       "    <tr>\n",
       "      <th>0</th>\n",
       "      <td>Pennock Idea Hub</td>\n",
       "      <td>Toronto, Ontario</td>\n",
       "      <td>We empower investment professionals with Indep...</td>\n",
       "      <td>2015-04-30 20:20:36+00:00</td>\n",
       "      <td>78</td>\n",
       "      <td>65</td>\n",
       "      <td>24</td>\n",
       "      <td>False</td>\n",
       "      <td>2022-07-15 13:34:08+00:00</td>\n",
       "      <td>The Morning Call: What's Going to Break? https...</td>\n",
       "      <td>[finance, business, money, investing, investment]</td>\n",
       "      <td>Zapier.com</td>\n",
       "      <td>False</td>\n",
       "    </tr>\n",
       "    <tr>\n",
       "      <th>0</th>\n",
       "      <td>Lockhart Murphy</td>\n",
       "      <td>69 Broad Street, EC2M 1QS</td>\n",
       "      <td>We Deliver Efficient, Market Leading And Strai...</td>\n",
       "      <td>2022-04-01 10:41:23+00:00</td>\n",
       "      <td>16</td>\n",
       "      <td>61</td>\n",
       "      <td>767</td>\n",
       "      <td>False</td>\n",
       "      <td>2022-07-15 13:33:40+00:00</td>\n",
       "      <td>The onset of the COVID-19 pandemic and the UK'...</td>\n",
       "      <td>None</td>\n",
       "      <td>Twitter Web App</td>\n",
       "      <td>False</td>\n",
       "    </tr>\n",
       "  </tbody>\n",
       "</table>\n",
       "</div>"
      ],
      "text/plain": [
       "          user_name              user_location  \\\n",
       "0   Shuja Ahmed Ch.                 Dubai, UAE   \n",
       "0    Betterment Lab             Washington, DC   \n",
       "0        Moneza Inc                        USA   \n",
       "0  Pennock Idea Hub           Toronto, Ontario   \n",
       "0   Lockhart Murphy  69 Broad Street, EC2M 1QS   \n",
       "\n",
       "                                    user_description  \\\n",
       "0          I’m here to avoid my friends on Facebook.   \n",
       "0  A #personalfinance #blog on a mission to give ...   \n",
       "0  Using Machine Learning, Moneza identifies misp...   \n",
       "0  We empower investment professionals with Indep...   \n",
       "0  We Deliver Efficient, Market Leading And Strai...   \n",
       "\n",
       "               user_created  user_followers  user_friends  user_favourites  \\\n",
       "0 2009-08-02 20:52:11+00:00             688           702              341   \n",
       "0 2019-09-06 02:10:19+00:00            2307          1166              177   \n",
       "0 2022-04-13 13:26:01+00:00              41             7               21   \n",
       "0 2015-04-30 20:20:36+00:00              78            65               24   \n",
       "0 2022-04-01 10:41:23+00:00              16            61              767   \n",
       "\n",
       "   user_verified                      date  \\\n",
       "0          False 2022-07-15 13:35:59+00:00   \n",
       "0          False 2022-07-15 13:35:09+00:00   \n",
       "0          False 2022-07-15 13:35:02+00:00   \n",
       "0          False 2022-07-15 13:34:08+00:00   \n",
       "0          False 2022-07-15 13:33:40+00:00   \n",
       "\n",
       "                                                text  \\\n",
       "0  #Indonesia: In their closed door meetings, the...   \n",
       "0  Aer Lingus misery; a grim economic outlook; an...   \n",
       "0  VRP 350 AI Last 10 Trade Performance\\nInvest: ...   \n",
       "0  The Morning Call: What's Going to Break? https...   \n",
       "0  The onset of the COVID-19 pandemic and the UK'...   \n",
       "\n",
       "                                            hashtags  \\\n",
       "0                                        [Indonesia]   \n",
       "0                                               None   \n",
       "0                                               None   \n",
       "0  [finance, business, money, investing, investment]   \n",
       "0                                               None   \n",
       "\n",
       "                     source  is_retweet  \n",
       "0  Microsoft Power Platform       False  \n",
       "0          ContentStudio.io       False  \n",
       "0               MaikaMoneza       False  \n",
       "0                Zapier.com       False  \n",
       "0           Twitter Web App       False  "
      ]
     },
     "execution_count": 8,
     "metadata": {},
     "output_type": "execute_result"
    }
   ],
   "source": [
    "tweets_df.head()"
   ]
  },
  {
   "cell_type": "markdown",
   "metadata": {},
   "source": [
    "## 5. Save the data"
   ]
  },
  {
   "cell_type": "markdown",
   "metadata": {},
   "source": [
    "\n",
    "\n",
    "### 5.1. Read past data"
   ]
  },
  {
   "cell_type": "code",
   "execution_count": 9,
   "metadata": {},
   "outputs": [
    {
     "name": "stdout",
     "output_type": "stream",
     "text": [
      "past tweets: (30024, 13)\n"
     ]
    }
   ],
   "source": [
    "tweets_old_df = pd.read_csv(\"Finance_tweets.csv\")\n",
    "print(f\"past tweets: {tweets_old_df.shape}\")"
   ]
  },
  {
   "cell_type": "markdown",
   "metadata": {},
   "source": [
    "### 5.2. Merge past and present data"
   ]
  },
  {
   "cell_type": "code",
   "execution_count": 10,
   "metadata": {},
   "outputs": [
    {
     "name": "stdout",
     "output_type": "stream",
     "text": [
      "new tweets: 100 past tweets: 30024 all tweets: 30124\n"
     ]
    }
   ],
   "source": [
    "tweets_all_df = pd.concat([tweets_old_df, tweets_df], axis=0)\n",
    "print(f\"new tweets: {tweets_df.shape[0]} past tweets: {tweets_old_df.shape[0]} all tweets: {tweets_all_df.shape[0]}\")"
   ]
  },
  {
   "cell_type": "markdown",
   "metadata": {},
   "source": [
    "### 5.3. Remove Duplicated data"
   ]
  },
  {
   "cell_type": "code",
   "execution_count": 11,
   "metadata": {},
   "outputs": [
    {
     "name": "stdout",
     "output_type": "stream",
     "text": [
      "all tweets: (30124, 13)\n"
     ]
    }
   ],
   "source": [
    "tweets_all_df.drop_duplicates(subset = [\"user_name\", \"date\", \"text\"], inplace=True)\n",
    "print(f\"all tweets: {tweets_all_df.shape}\")"
   ]
  },
  {
   "cell_type": "code",
   "execution_count": 12,
   "metadata": {},
   "outputs": [],
   "source": [
    "tweets_all_df.to_csv(\"Finance_tweets.csv\", index=False)"
   ]
  },
  {
   "cell_type": "code",
   "execution_count": null,
   "metadata": {},
   "outputs": [],
   "source": []
  }
 ],
 "metadata": {
  "kernelspec": {
   "display_name": "Python 3 (ipykernel)",
   "language": "python",
   "name": "python3"
  },
  "language_info": {
   "codemirror_mode": {
    "name": "ipython",
    "version": 3
   },
   "file_extension": ".py",
   "mimetype": "text/x-python",
   "name": "python",
   "nbconvert_exporter": "python",
   "pygments_lexer": "ipython3",
   "version": "3.9.12"
  }
 },
 "nbformat": 4,
 "nbformat_minor": 4
}
